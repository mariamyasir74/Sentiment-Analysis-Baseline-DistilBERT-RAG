{
 "cells": [
  {
   "cell_type": "code",
   "execution_count": null,
   "metadata": {
    "colab": {
     "base_uri": "https://localhost:8080/"
    },
    "id": "RBQ7JIcm4xlu",
    "outputId": "82fc5c9c-ad42-4034-b987-35a07d6fafdc"
   },
   "outputs": [],
   "source": [
    "!pip install transformers datasets sentence-transformers faiss-cpu scikit-learn pandas numpy nbformat"
   ]
  },
  {
   "cell_type": "code",
   "execution_count": null,
   "metadata": {
    "colab": {
     "base_uri": "https://localhost:8080/"
    },
    "id": "8bq94NmA3kF1",
    "outputId": "9c4f4752-6704-4718-e027-b5b84bfd239a"
   },
   "outputs": [],
   "source": [
    "from google.colab import drive\n",
    "drive.mount('/content/drive')"
   ]
  },
  {
   "cell_type": "code",
   "execution_count": null,
   "metadata": {
    "colab": {
     "base_uri": "https://localhost:8080/",
     "height": 382,
     "referenced_widgets": [
      "32f807e807e3459790d3c5f66a09c314",
      "4a8da574cf204cf487bcefdb68b6c69b",
      "5ff12a35c68347acbe0e4a9d5f59d27e",
      "8e5d95b773c9423f96124dd7eff89406",
      "e71ced0098f443ef87bcce2b9c52c2bd",
      "460f8519846946a1adceca0ef43077a2",
      "232c0abb6d97429196cb0b7d07e5cbf9",
      "17ccdd238a6747da980e312e7a5a1d41",
      "95b1bf1eb30a4e64abbfcdc46928431d",
      "2585a40d00da44edbc57902536a9d3d3",
      "82cbbac2b86a431e8ae587809749797b",
      "b0ff76c215ca43c4b2f8423bf60b73f0",
      "dd17066e7a8b4943af6b4c614b3fe01f",
      "42cf94f5d8bd497e8424e337a93b7833",
      "9a94806dcaef4c6483a2c4073045b22c",
      "0240c263936c42539032ad0cde5224c0",
      "48d9348e334e406583c737bcbdffa088",
      "4ff7c9120cc14d05a202ca362b582072",
      "7876c801f17b4a13ac1d8be3f9ae9cda",
      "91c4e531f2ed4dd6ba90877030a7566e",
      "0507610711dc404494384c6f45556f0b",
      "9a8b28ecccca4fff8339639bc49e8417",
      "72b9c3e3347b4b4c8cd9c47ce02db7cc",
      "5c6de649726d4c639ada9eda438100e0",
      "076ec7def39e4d96beeaf0e1b80897ee",
      "6bf7af8c025a41eb9302ac12d4a6bab8",
      "faee9ca17d9e40d8a49fc4bb8862b633",
      "ad24580674864fe2bd6b48f63724dbc2",
      "011fa4764efd480298a75bcac2fc028c",
      "647205ed6d214bf1a68f55f0e7c479e2",
      "9836bed07e31432fb36ec7bf4bc84395",
      "057406e5e6ca4eeeaa294b28dcf7faee",
      "7231da944bfe4997af09db753c4bcf3e",
      "2ae7c327218a454393f1d9d66d89070a",
      "1563cdfe06674d378d7dc2cb55361b2e",
      "0b36ee67e4504ebe81680a42932f358a",
      "8de9cd6b9f11498abf2072b47c8721fe",
      "763a830a327c4c78b8c836e4f9f9f4c1",
      "afb1a1bc84524b1287acf65520d770b6",
      "88a933a7d35944f296637866c4322303",
      "ea878a1dd5594bb383615043c985391f",
      "cc364e653ece43c4b0125b31fbb352c2",
      "c6a2962785df4dd3b1442964637b08f6",
      "88f0a9f7533c4cfa86b1bb22e79846dd",
      "96b94044f9a643078ad7fab326dcf9dd",
      "d5ff6dd11ab84d15b4cbd909add0ab81",
      "04c13a7aec074f5e82388f54dac46c10",
      "51609f78d25a415f8d9e66b57a092436",
      "e6c93e6322314e7bb30c591343cf0c89",
      "5f004797e42b48c6b01b0c8e2a847a79",
      "1e506e41f7e74e438eb2ffeece74d439",
      "e1c4105501f24d5bbd3ad23f6d8378bc",
      "d6c1f8fcf2234c039b9db731e557fdbb",
      "9e0a7a1918a2417f85918dc06d13f6c8",
      "fcf432e34eb247929327362d95920cca",
      "2ccfa37f0e2945ffa174e8c94df92c06",
      "7c72070e94d04eb2aeb75bd11c488552",
      "e3b45b381721436781b77bd723e3f1f6",
      "2092990c28bd4e368d62ac200c523d8d",
      "096febde80c6455e9270e8e2ffc30a85",
      "d7e34dc67b9e4e74b26f66d77ef4158e",
      "f4153b5e9116479b9c2b37c168f2808b",
      "aa80be971b0049d39493c9ab79864a06",
      "8d814dad9d6e4997879f12e5f38876e1",
      "39906b96632843e59af761089d392954",
      "a76037f4004f4d61943b5ffa4c7c8979",
      "872d83be9ebf46678d87eb957ae973ab",
      "5a12625a7747462c82889b2ac03e757b",
      "7dad3fc8d01e4ffdb94c83c5ad1eae97",
      "910d342fb3504cdfbd6ffa621b2f2c7f",
      "f7d77ca4bae3469fbac1f6f41ed5049a",
      "ce90e0fd825c470cb286936d09b2e120",
      "5048bbc803854de79dad3fe82999aa7a",
      "8bd9d80cff32451b9ece95590751a9fd",
      "2f676bf896c24133b3b321496cba498e",
      "ca5388e1171a44ab948416eebd674acf",
      "e947398d366c4d04b054e78513b21e3f"
     ]
    },
    "id": "yaqXUSZ13bGY",
    "outputId": "51614533-8a0a-4244-adeb-5c3cd42e1cf1"
   },
   "outputs": [],
   "source": [
    "from datasets import load_dataset\n",
    "dataset = load_dataset(\"tweet_eval\", \"sentiment\")\n",
    "print(dataset['train'].features['label'])"
   ]
  },
  {
   "cell_type": "code",
   "execution_count": null,
   "metadata": {
    "colab": {
     "base_uri": "https://localhost:8080/",
     "height": 241,
     "referenced_widgets": [
      "aca73bdb1e034a8cb8e71edde5f7ff2b",
      "ef2a0e9d20094c18b4adb54de923eb53",
      "060b01821d7943d8a7901835562680a2",
      "0cabbab0f7e24de49ba15aa9dc5ffe3c",
      "00094e719e114b51b791de10f6c9f6ce",
      "de4377eec9994005b74a516ef7f58889",
      "bc4ac4d5efa242a99511dcab237f7ab7",
      "a563da8cbb9143db84c8f3ebeb180149",
      "19e0bf721df047c5b7570594ee12d691",
      "558ab33af0fe47c7882f6bd208e953f9",
      "85232fbcd9c44895904d46f150a63bc3",
      "dae786091673469e87807151bb74a32a",
      "20354577d58d488ea80ec432c99b7df2",
      "7c2cff83799a4e32ba7f091859478185",
      "529bf298f41947e9975139c9e9b90d90",
      "6d07cd26d55c4d9a98653104ba857c03",
      "6fe3c9bfa7e844f889ff1919fb75f8b4",
      "c8c7f7ea66134edf8c30afcfca1babfd",
      "f0982d24d15e4437aef0010c8ca4bda8",
      "147b0fe900104282856b690e4670e3a4",
      "8bce1374557944bb9667232afb05a4df",
      "91bbc0d0a1c445069aa4e100e0998020",
      "65ac28ba9dbb46e5ba88d462124c1228",
      "c47fef302e6f402cbcf43849fa889980",
      "52611a2f68814b5fbaf75980954f058a",
      "06d18f2f1bdc4ae1ad62ea5e93989c47",
      "ea50b0b9e8604814b973334bbace0169",
      "08153822156f4201ad1db5bf0fa12a59",
      "407b4cc17831419aa929796f197b1a39",
      "6938681a5c994eddadccfb9dfb9b57d7",
      "3fd36afc8d4b45fc8329d1bb6a07e957",
      "2a436ddf69df4c939e6787f6954f796b",
      "4114f8fbc0f443448ab703825fa9efd7",
      "3e16c9e7bb994a17b6cb71dc3bc35764",
      "fdb790501539415c83592a42c68c0ba8",
      "9a8ae711c0894a15aff879d4771a366a",
      "19f7b21f481c4ccf94e3d836feac220d",
      "c8df5a420aab47aeb4f1c7b0a56307f9",
      "f4d42ff3e4254aa895039b0d8040f7ad",
      "948e4ae1452f4387b96f6bff033768c1",
      "0e193bb3c8b149ddbde4c7907ca98e8d",
      "d49bef56e8dc4f4ba1fd7253e3f8fa00",
      "ed35ad3422bc4dc1b67ea2bb66b3b912",
      "5d5340496dbc46feb36fcc002f4a5069",
      "d29d058aa3754a7ba6c4c55334f94f88",
      "4e3f5d96749849ba8c9c2eb0700d0490",
      "ec23b0da4ffe4f38b818e8c82ccf77fe",
      "425a755bfc044184a7daf8114cd54ca8",
      "6c117d6755894c01b3303cb47442884c",
      "7a93ff3669664b0cab936dae658d0121",
      "ef47bd6246ad4d8eb63a85cc567dd015",
      "27d603b42f1446a5b6e5b85bd1798c4a",
      "fe5f6bafdb564cd783d1b34de279dfab",
      "5d9d4a4b0b2748c6a37b983a33c165a6",
      "25d421d6a6c34223af243c99a72bdd19",
      "be5add59cf5041468bace098ca5a3eac",
      "bab2a3d89a6143d5b3dcbc9d175d0381",
      "d9431a04a09542b88121f17ceef94976",
      "048197a73e2840e388cf19d0452572da",
      "18afbd73633748a2bb32b57a9429415f",
      "f0425720c10f415abf9ab341e4262abe",
      "3d19fe360048427cbe94edc8f8a1c1eb",
      "b35a277b739d45dba93f2362d120d71a",
      "2069b1aa16e24cd882b81d9ba013f781",
      "49e321e16e32413ea4bf807b92e84117",
      "d4b5fac3f0b849b5b0bb9bbc8df77548",
      "c88cb4e07ae149bfa95976572534b05a",
      "f89f170c215e43358cd025184ae3626c",
      "5167288e4b214631b51304de5b4d6f49",
      "bf2e4de45590449a8ea387e4a1936eef",
      "638325f98c5b4a4c9fd32db5140b2887",
      "85204a5113d34a58a58a83a50f3ecd26",
      "ef68e5f79eff488e81014895d576258f",
      "2f1a092e0af042e29b5b7220b86dc2a2",
      "bf713785cd4e4544afdc63a1bea8806d",
      "56ee52796dd540be9d8b77ae31383d6f",
      "bf10f2c288534e8b843966f2595f7fdf"
     ]
    },
    "id": "c2adPake5P_Z",
    "outputId": "1a09a7ae-93ad-41c1-9163-660f281b2653"
   },
   "outputs": [],
   "source": [
    "from transformers import AutoTokenizer\n",
    "\n",
    "MODEL_NAME = \"distilbert-base-uncased\"\n",
    "tokenizer = AutoTokenizer.from_pretrained(MODEL_NAME)\n",
    "\n",
    "def preprocess(batch):\n",
    "    return tokenizer(batch['text'], truncation=True, padding='max_length', max_length=128)\n",
    "\n",
    "train_ds = dataset['train'].map(preprocess, batched=True)\n",
    "val_ds = dataset['validation'].map(preprocess, batched=True)\n",
    "test_ds = dataset['test'].map(preprocess, batched=True)\n",
    "train_ds = train_ds.rename_column(\"label\", \"labels\")\n",
    "val_ds = val_ds.rename_column(\"label\", \"labels\")\n",
    "test_ds = test_ds.rename_column(\"label\", \"labels\")\n",
    "train_ds.set_format(\"torch\", columns=[\"input_ids\", \"attention_mask\", \"labels\"])\n",
    "val_ds.set_format(\"torch\", columns=[\"input_ids\", \"attention_mask\", \"labels\"])\n",
    "test_ds.set_format(\"torch\", columns=[\"input_ids\", \"attention_mask\", \"labels\"])"
   ]
  },
  {
   "cell_type": "code",
   "execution_count": null,
   "metadata": {
    "colab": {
     "base_uri": "https://localhost:8080/",
     "height": 571
    },
    "id": "b1JjuMDAnXLF",
    "outputId": "c38ad196-b1a2-46e0-c78d-c7fd88d7e0fb"
   },
   "outputs": [],
   "source": [
    "from transformers import AutoModelForSequenceClassification, TrainingArguments, Trainer\n",
    "import numpy as np\n",
    "from sklearn.metrics import accuracy_score, precision_recall_fscore_support\n",
    "\n",
    "model = AutoModelForSequenceClassification.from_pretrained(MODEL_NAME, num_labels=3)\n",
    "\n",
    "def compute_metrics(pred):\n",
    "    labels = pred.label_ids\n",
    "    preds = np.argmax(pred.predictions, axis=1)\n",
    "    precision, recall, f1, _ = precision_recall_fscore_support(labels, preds, average=\"weighted\")\n",
    "    acc = accuracy_score(labels, preds)\n",
    "    return {\"accuracy\": acc, \"precision\": precision, \"recall\":recall, \"f1\": f1}\n",
    "\n",
    "training_args = TrainingArguments(output_dir=\"/content/drive/MyDrive/sentiment_model\", eval_strategy=\"epoch\", save_strategy=\"epoch\", learning_rate=2e-5,\n",
    "                                  per_device_train_batch_size=16, per_device_eval_batch_size=64, num_train_epochs=3, weight_decay=0.01, load_best_model_at_end=True,\n",
    "                                  logging_dir=\"/content/drive/MyDrive/logs\")\n",
    "trainer = Trainer(model=model,args=training_args, train_dataset=train_ds, eval_dataset=val_ds, tokenizer=tokenizer, compute_metrics=compute_metrics)\n",
    "trainer.train()"
   ]
  },
  {
   "cell_type": "code",
   "execution_count": null,
   "metadata": {
    "colab": {
     "base_uri": "https://localhost:8080/",
     "height": 193
    },
    "id": "MrHEEi6w8Sx0",
    "outputId": "8408ca82-78e6-4e2e-92bc-f80d36756c73"
   },
   "outputs": [],
   "source": [
    "trainer.evaluate(test_ds)"
   ]
  },
  {
   "cell_type": "code",
   "execution_count": null,
   "metadata": {
    "colab": {
     "base_uri": "https://localhost:8080/"
    },
    "id": "-gSkJJZ_8T4U",
    "outputId": "8b9053cc-a4f4-4148-896c-4c43787d0bb0"
   },
   "outputs": [],
   "source": [
    "trainer.save_model(\"/content/drive/MyDrive/sentiment_model\")\n",
    "tokenizer.save_pretrained(\"/content/drive/MyDrive/sentiment_model\")\n",
    "model = model.to(\"cpu\")\n",
    "model.save_pretrained(\"/content/drive/MyDrive/sentiment_model_cpu\")\n",
    "tokenizer.save_pretrained(\"/content/drive/MyDrive/sentiment_model_cpu\")"
   ]
  },
  {
   "cell_type": "code",
   "execution_count": null,
   "metadata": {
    "colab": {
     "base_uri": "https://localhost:8080/"
    },
    "id": "uPe--5r88k21",
    "outputId": "e637334b-98bf-4a51-8013-0cdbd286df23"
   },
   "outputs": [],
   "source": [
    "from transformers import pipeline\n",
    "\n",
    "clf = pipeline(\"text-classification\", model=\"/content/drive/MyDrive/sentiment_model\", tokenizer=\"/content/drive/MyDrive/sentiment_model\")\n",
    "print(clf(\"I love this airline, great service!\"))"
   ]
  },
  {
   "cell_type": "code",
   "execution_count": null,
   "metadata": {
    "colab": {
     "base_uri": "https://localhost:8080/",
     "height": 49,
     "referenced_widgets": [
      "848d462f982e47a5b9b08a40931ac15b",
      "d24c437522384858b64c89eb4411f285",
      "18326bce11ac4257833de5d00c907840",
      "1381f11b51f64e78acffa12f0a2eadf2",
      "0d93d581a3ef4e598c4fa76b78bee7cb",
      "9fe9b1d8c5ac4334a582ea02671bef47",
      "15874b2615b34f25be6cefe830df1425",
      "831af232de3240c1a3f0433fec768104",
      "7909ee764f734771a70686bc5f8b0d5c",
      "7aed8824178d426383f855d47262fac7",
      "e58d48e1938c40988f937db0d1f5890b"
     ]
    },
    "id": "TDRjNMaMNeZH",
    "outputId": "2d68bf08-e00b-4bfe-fe3e-3353e00bce0b"
   },
   "outputs": [],
   "source": [
    "import faiss, pickle\n",
    "from sentence_transformers import SentenceTransformer\n",
    "\n",
    "train_texts = dataset['train']['text']\n",
    "embedder = SentenceTransformer(\"all-MiniLM-L6-v2\")\n",
    "embeddings = embedder.encode(train_texts, show_progress_bar=True, convert_to_numpy=True)\n",
    "d = embeddings.shape[1]\n",
    "index = faiss.IndexFlatL2(d)\n",
    "index.add(embeddings)\n",
    "faiss.write_index(index, \"faiss_index.index\")\n",
    "train_texts = list(dataset['train']['text'])\n",
    "with open(\"passages.pkl\", \"wb\") as f:\n",
    "    pickle.dump(train_texts, f)"
   ]
  },
  {
   "cell_type": "code",
   "execution_count": null,
   "metadata": {
    "id": "9HgRU6neNuoN"
   },
   "outputs": [],
   "source": [
    "def retrieve_passages(query, k=5):\n",
    "    q_emb = embedder.encode([query])\n",
    "    D, I = index.search(q_emb, k)\n",
    "    return [train_texts[int(i)] for i in I[0]]"
   ]
  },
  {
   "cell_type": "code",
   "execution_count": null,
   "metadata": {
    "colab": {
     "base_uri": "https://localhost:8080/"
    },
    "id": "ulOe1e-wNvqG",
    "outputId": "3cc30ee2-53af-447a-9b6f-f7ef8113c70e"
   },
   "outputs": [],
   "source": [
    "print(retrieve_passages(\"The flight was terrible\", k=3))"
   ]
  },
  {
   "cell_type": "code",
   "execution_count": null,
   "metadata": {
    "colab": {
     "base_uri": "https://localhost:8080/",
     "height": 241,
     "referenced_widgets": [
      "c42270d8bbc640459ec0f4adac0b515b",
      "76c32399647944db8bb2845df02d6002",
      "31c1cdfdd3c741b1b5cf17e097f2473a",
      "fc050e15adfd4712bc2f67400bafd55d",
      "b48fccc373b740a49760ca9c085c68c4",
      "22e7e6ae02ce4352a10bd106d74df1be",
      "e08b3bf5f30749c0a7898d82192d9239",
      "5b63ddf1a36c4459a02836c43551db4f",
      "3ab8203a0d8a4d50aa7a8965d0fac1aa",
      "e4de2fe27e5b40ac8bc45a8e065c97a8",
      "45a651a6e44b457d8b16469c54f9b2ff",
      "774d698a654b4d03872d5a9d9f8b16d1",
      "b889047c3cc34df7919c5170dfc1684c",
      "dc93ee537c124109b5acb978bc9a57f6",
      "ed78e1daab364628ae7bf6a65a4faca0",
      "f49302ea7d2544febafd1490d8e92726",
      "a2b18c6114834f7197b1178e715becb0",
      "c669c070bd074c97b82ab79b87aae281",
      "f4fbef2e83fc4d7085795c09232ce0b8",
      "6a1fdc42a79a4f2e893e95f161252001",
      "65f160d4605147c3a2185182dca17a85",
      "63a8bbab38cf437aa04f8f19bcaf1119",
      "f639038dd0dc499ba1d4a1b729352595",
      "d885fbbbd5e241d48da10f4c728697e7",
      "3a45ab4eee194d078854fbd0297da049",
      "438c852433a74e2bbc173330ee80fb25",
      "fbd40eea3597499a96c6762815458916",
      "fe6cf479c25942eab030eb4572f87bcd",
      "6201ff2a2b6e45b8a58878518cef8b06",
      "9005f64bb9f5455d97e9d55ad37b9be7",
      "7344a5fc01fb451e979ebd41830371b9",
      "e11d4fdd8b55474d80de3bdb4c27b714",
      "d11c065a573c4df9b85c6ca92ea0f1ad",
      "d7e94e0e233e4fb4b9c1f973e6bfc293",
      "4e6fd73b721c4895ae2cf8bd5465d9a2",
      "b1f10d982a1043a3a13f08773ee49220",
      "79205294f0aa4a5cb54862807ae40e21",
      "254de0465e284aea90866e152c26d59d",
      "95bae391e6ad42dabb8c8b47ec356850",
      "9ca1716726b943829f880f1b9abb0e08",
      "bec15ec687f140a0a98baf2d7759da11",
      "85ffe9662efd45099f2e8e55632cd5e9",
      "2ed4221ce24c435db4cf3bbbe7118da2",
      "d591ce1b6e9942048c7be50c37cc1d6a",
      "11687b31cb034b528a58c5ed5512613e",
      "95664981c89147b1aaea2e7175d2f908",
      "7949b8515d07429a9da3845efae86d45",
      "8ce1a6a09a094d47bc0fbbd87da2bc7e",
      "65ced2b9a8c949acba4b287b269b5b34",
      "61693a50507f43a79a5a6a1a5a43d63a",
      "89fd4daaf35d49d68bc24b9f83ede19a",
      "d0bad24ccb54418e9af1f141367c61b7",
      "bd02e14f18ec4d809b1b7239dddf5396",
      "7b1fbb20602a47e5ad158268750bdc40",
      "e0672446bab84838be8ae2d0c65a68e2",
      "83ed9d06081445da92c91560ae439c21",
      "3d4697d1b7a44e25adaf54e9f1b24b22",
      "dda2f2ac8cf146e99b13947326fa973f",
      "36ab48112d534583850e8e95d44974f0",
      "02410d421e29485aafb1a4e401b2fc15",
      "d8178bc98a7a442fa1f95e910971f8a2",
      "ce7a990cb8894202bb49059871e78ec8",
      "c2d06487699e4f7182b3125beb41727d",
      "1c119069010c44e7b391f71c319bce48",
      "ea511bdcb5494ca5b52b82686ada1357",
      "4f500629ade849c094016edc19d900f6",
      "165ccdfb564e439dbd8af01fad7753c1",
      "3abdda426b9a4f4cb731396060bfc777",
      "8a813e09c1104914bf173736fdca21de",
      "3f60d99534684b44a878fa93a318f74d",
      "5fef84fb087e4a36aa28399f529772e9",
      "c664f3ec993f4aa0867fedcc80aef166",
      "62f8e43c5f3148c5b5d0a1cfd662c2dc",
      "27600f1757ff4830acdb5cfa565b5b76",
      "3c3448e38f8a463b88c01cf0db32e9fe",
      "db600ab189cb42da8efd04042e6c619c",
      "ec4f682606bf4533a0b44dbad8f31fa7"
     ]
    },
    "id": "FVGpMUyJNxz0",
    "outputId": "08412cfa-69b8-464b-e5a7-069936b25bf4"
   },
   "outputs": [],
   "source": [
    "from transformers import AutoTokenizer, AutoModelForSeq2SeqLM\n",
    "\n",
    "GEN_MODEL = \"google/flan-t5-small\"\n",
    "gen_tok = AutoTokenizer.from_pretrained(GEN_MODEL)\n",
    "gen_model = AutoModelForSeq2SeqLM.from_pretrained(GEN_MODEL)"
   ]
  },
  {
   "cell_type": "code",
   "execution_count": null,
   "metadata": {
    "id": "dGjDBZ9nN2fQ"
   },
   "outputs": [],
   "source": [
    "def explain_sentiment(text, predicted_label, k=3):\n",
    "    retrieved = retrieve_passages(text, k=k)\n",
    "    prompt = f\"\"\"\n",
    "    Input: \"{text}\"\n",
    "    Predicted sentiment: {predicted_label}\n",
    "    Retrieved examples:\n",
    "    - {\"\\n- \".join(retrieved)}\n",
    "    Explain in 1-2 sentences why the prediction makes sense based on the retrieved evidence.\n",
    "    \"\"\"\n",
    "    inputs = gen_tok(prompt, return_tensors=\"pt\", truncation=True, max_length=512)\n",
    "    outputs = gen_model.generate(**inputs, max_length=80)\n",
    "    explanation = gen_tok.decode(outputs[0], skip_special_tokens=True)\n",
    "    return {\"retrieved\": retrieved, \"explanation\": explanation}"
   ]
  },
  {
   "cell_type": "code",
   "execution_count": null,
   "metadata": {
    "colab": {
     "base_uri": "https://localhost:8080/"
    },
    "id": "4HfDJyUHODot",
    "outputId": "e1e51cde-52ed-4a6c-8b28-530783ef8f6a"
   },
   "outputs": [],
   "source": [
    "sample = \"The seats were uncomfortable and the service was rude.\"\n",
    "pred = clf(sample)[0]['label']\n",
    "rag_output = explain_sentiment(sample, pred)\n",
    "print(\"Prediction:\", pred)\n",
    "print(\"Retrieved passages:\", rag_output['retrieved'])\n",
    "print(\"Explanation:\", rag_output['explanation'])"
   ]
  }
 ],
 "metadata": {
  "accelerator": "GPU",
  "colab": {
   "gpuType": "T4",
   "provenance": []
  },
  "kernelspec": {
   "display_name": "Python 3",
   "name": "python3"
  },
  "language_info": {
   "name": "python"
  }
 },
 "nbformat": 4,
 "nbformat_minor": 0
}
